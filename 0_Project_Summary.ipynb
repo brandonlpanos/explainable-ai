{
 "cells": [
  {
   "cell_type": "markdown",
   "metadata": {},
   "source": [
    "### Content  \n",
    "The aim of this project is to derive both local and global explanations of spectral features that might be important for the prediction of solar flares. These explanations are termed attributions and are calculated using two formalisms: ***Grad-CAM*** and ***Expected Gradients***. The notebooks flow as follows: \n",
    "1. ***Select_Splitting:*** In this notebook we train a simple ConvNet to distinguish between Mg II spectra coming from the AR and PF datasets. Since the splitting of the train/test datasets have a strong influence on the results, we train 50 models over 50 random splittings and select the splitting that has a strong performance as well as a set of robust statistics.  \n",
    "2. ***Ensemble_Train_ConvNet:*** Different models with the same score produce different explanations. To achieve the most comprehensive and intuitive attributions, we train an ensemble of 50 models over the optimal splitting from above, that are then used in concert to produce average explanation for each spectrum.  \n",
    "3. ***Reduced_Ensemble:*** Applying the full 50 model ensemble to each spectrum of the entire PF dataset is computationally expensive, we therefore manually select a subsample of 9 models that best preserved the average heatmaps of the entire swarm on a select sample of test spectra. This reduces the computational time of the entire dataset from 300 days to just 5 days.  \n",
    "4. ***Calculate_All_Attributions_EG:*** We then use the 9 models to transform the datacubes of spectra into a datacube of attributions. We also calculate a cube of raw network outputs and prediction scores. These cubes map one-to-one to the locations of the spectra in the original IRISreader observations  \n",
    "\n",
    "***Extra notebooks***\n",
    "5. ***Ensemble_Artifact_Test:*** Demonstrates why we need to use an ensemble of models \n",
    "6. ***Spectrogram_Attributions:*** Short example of application of both Grad-CAM and Expected Gradients to IRIS spectrogram \n",
    "7. ***Train_EG_with_Prior:*** Additional code for training EG with attribution priors. Fails for our dataset"
   ]
  }
 ],
 "metadata": {
  "kernelspec": {
   "display_name": "Python 3",
   "language": "python",
   "name": "python3"
  },
  "language_info": {
   "codemirror_mode": {
    "name": "ipython",
    "version": 3
   },
   "file_extension": ".py",
   "mimetype": "text/x-python",
   "name": "python",
   "nbconvert_exporter": "python",
   "pygments_lexer": "ipython3",
   "version": "3.5.4"
  }
 },
 "nbformat": 4,
 "nbformat_minor": 2
}
